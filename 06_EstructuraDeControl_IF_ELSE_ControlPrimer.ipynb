{
 "cells": [
  {
   "cell_type": "code",
   "execution_count": 7,
   "id": "75b76650",
   "metadata": {},
   "outputs": [
    {
     "name": "stdout",
     "output_type": "stream",
     "text": [
      "Ingrese la secuencia de ADN....ACGTATAGAGTAGTAGATAG\n",
      "/nTamaño del Primer Correcto, secuencia ingresada!!..\n"
     ]
    }
   ],
   "source": [
    "#https://uniwebsidad.com/libros/python/capitulo-6/metodos-de-validacion\n",
    "\n",
    "secuencia_ADN = input('Ingrese la secuencia de ADN....')\n",
    "sizeSecuencia_ADN = len(secuencia_ADN)\n",
    "\n",
    "\n",
    "if secuencia_ADN.isdigit():\n",
    "    print('/nDebe Ingresar caracteres Alfabeticos!!..')\n",
    "    print('Comprobación Fallida')\n",
    "    \n",
    "elif sizeSecuencia_ADN < 10 : \n",
    "    print('/nEl primer debe tener al menos 10 Nucleotidos!!..')\n",
    "    print('Comprobación Fallida')\n",
    "\n",
    "elif sizeSecuencia_ADN < 30 : \n",
    "    print('/nTamaño del Primer Correcto, secuencia ingresada!!..')\n",
    "else:\n",
    "    print('/nDemasiados Nucleotidos Ingresados..')\n",
    "    print('Comprobación Fallida')\n",
    "\n",
    "\n"
   ]
  },
  {
   "cell_type": "code",
   "execution_count": null,
   "id": "c534bea6",
   "metadata": {},
   "outputs": [],
   "source": []
  }
 ],
 "metadata": {
  "kernelspec": {
   "display_name": "Python 3",
   "language": "python",
   "name": "python3"
  },
  "language_info": {
   "codemirror_mode": {
    "name": "ipython",
    "version": 3
   },
   "file_extension": ".py",
   "mimetype": "text/x-python",
   "name": "python",
   "nbconvert_exporter": "python",
   "pygments_lexer": "ipython3",
   "version": "3.8.3"
  }
 },
 "nbformat": 4,
 "nbformat_minor": 5
}

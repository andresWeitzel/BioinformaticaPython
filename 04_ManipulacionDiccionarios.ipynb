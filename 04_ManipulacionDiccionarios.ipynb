{
 "cells": [
  {
   "cell_type": "code",
   "execution_count": 13,
   "id": "63c8c9c4",
   "metadata": {},
   "outputs": [
    {
     "name": "stdout",
     "output_type": "stream",
     "text": [
      "DICCIONARIO DE STRINGS -->  {'GLY': 'GLICINA', 'ALA': 'ALANINA', 'VAL': 'VALINA', 'LEU': 'LEUCINA'}\n",
      "DICCIONARIO DE TUPLAS -->  {('LEU', 'LEUCINA'), ('ALA', 'ALANINA'), ('GLY', 'GLICINA'), ('VAL', 'VALINA')}\n",
      "DICCIONARIO DE VARIOS TIPOS DE DATOS -->  {'GLY': 128.1736, 'ALA': 131.1736, 'VAL': 117.1469, 'LEU': 131.1736}\n"
     ]
    }
   ],
   "source": [
    "'''\n",
    "SON ESTRUCTURAS DE DATOS ESPECIALES\n",
    "\n",
    "-Los datos se almacenan de forma arbitraria y sin un orden.\n",
    "\n",
    "-Cada elemento consta de un par Clave-Valor. La clave es el indice \n",
    "para recuperar el valor y cada uno de ellos estan separados por ':' o ',' segun \n",
    "sea el caso.\n",
    "\n",
    "-Las claves solo deben ser objetos inmutables(ej:cadenas, tuplas, numeros) para\n",
    "poder acceder a su valor.\n",
    "\n",
    "'''\n",
    "\n",
    "#Diccionario de Strings\n",
    "diccAminos = {'GLY':'GLICINA', 'ALA':'ALANINA', 'VAL':'VALINA','LEU':'LEUCINA'}\n",
    "\n",
    "print(\"DICCIONARIO DE STRINGS --> \",diccAminos)\n",
    "\n",
    "\n",
    "#Diccionario de Tuplas\n",
    "diccAminos = {('GLY','GLICINA'), ('ALA','ALANINA'), ('VAL','VALINA'),('LEU','LEUCINA')}\n",
    "\n",
    "print(\"DICCIONARIO DE TUPLAS --> \",diccAminos)\n",
    "\n",
    "#Diccionario de Diversos Tipos de Datos\n",
    "diccAminos = {'GLY':128.1736, 'ALA':131.1736, 'VAL':117.1469,'LEU':131.1736}\n",
    "\n",
    "print(\"DICCIONARIO DE VARIOS TIPOS DE DATOS --> \",diccAminos)\n",
    "\n",
    "\n",
    "\n"
   ]
  },
  {
   "cell_type": "code",
   "execution_count": 17,
   "id": "27c000bc",
   "metadata": {},
   "outputs": [
    {
     "name": "stdout",
     "output_type": "stream",
     "text": [
      "dict_keys(['GLY', 'ALA', 'VAL', 'LEU'])\n",
      "dict_values([128.1736, 131.1736, 117.1469, 131.1736])\n",
      "4\n"
     ]
    }
   ],
   "source": [
    "#Obtenemos keys-values-longitud\n",
    "print(diccAminos.keys())\n",
    "print(diccAminos.values())\n",
    "print(len(diccAminos))"
   ]
  },
  {
   "cell_type": "code",
   "execution_count": 20,
   "id": "26289d20",
   "metadata": {},
   "outputs": [
    {
     "name": "stdout",
     "output_type": "stream",
     "text": [
      "128.1736\n",
      "131.1736\n"
     ]
    }
   ],
   "source": [
    "#Accedemos a sus elementos\n",
    "print(diccAminos['GLY'])\n",
    "print(diccAminos['ALA'])"
   ]
  },
  {
   "cell_type": "code",
   "execution_count": 25,
   "id": "38bf599a",
   "metadata": {},
   "outputs": [
    {
     "name": "stdout",
     "output_type": "stream",
     "text": [
      "{'GLY': 128.1736, 'ALA': 131.1736, 'VAL': 117.1469, 'LEU': 131.1736, 'MET': 145.78}\n"
     ]
    }
   ],
   "source": [
    "#Agregamos un elemento\n",
    "diccAminos['MET']=145.78\n",
    "print(diccAminos)"
   ]
  },
  {
   "cell_type": "code",
   "execution_count": 27,
   "id": "7ec3b703",
   "metadata": {},
   "outputs": [
    {
     "ename": "KeyError",
     "evalue": "'MET'",
     "output_type": "error",
     "traceback": [
      "\u001b[1;31m---------------------------------------------------------------------------\u001b[0m",
      "\u001b[1;31mKeyError\u001b[0m                                  Traceback (most recent call last)",
      "\u001b[1;32m<ipython-input-27-9dac82bad232>\u001b[0m in \u001b[0;36m<module>\u001b[1;34m\u001b[0m\n\u001b[0;32m      1\u001b[0m \u001b[1;31m#Eliminamos Elemento\u001b[0m\u001b[1;33m\u001b[0m\u001b[1;33m\u001b[0m\u001b[1;33m\u001b[0m\u001b[0m\n\u001b[1;32m----> 2\u001b[1;33m \u001b[0mdiccAminos\u001b[0m\u001b[1;33m.\u001b[0m\u001b[0mpop\u001b[0m\u001b[1;33m(\u001b[0m\u001b[1;34m'MET'\u001b[0m\u001b[1;33m)\u001b[0m\u001b[1;33m\u001b[0m\u001b[1;33m\u001b[0m\u001b[0m\n\u001b[0m\u001b[0;32m      3\u001b[0m \u001b[0mprint\u001b[0m\u001b[1;33m(\u001b[0m\u001b[0mdiccAminos\u001b[0m\u001b[1;33m)\u001b[0m\u001b[1;33m\u001b[0m\u001b[1;33m\u001b[0m\u001b[0m\n",
      "\u001b[1;31mKeyError\u001b[0m: 'MET'"
     ]
    }
   ],
   "source": [
    "#Eliminamos Elemento\n",
    "diccAminos.pop('MET')\n",
    "print(diccAminos)"
   ]
  },
  {
   "cell_type": "code",
   "execution_count": 32,
   "id": "96ea125e",
   "metadata": {},
   "outputs": [
    {
     "name": "stdout",
     "output_type": "stream",
     "text": [
      "{'GLY': 128.1736, 'ALA': 131.1736, 'VAL': 117.1469, 'LEU': 131.1736}\n",
      "NO SE HA ENCONTRADO EL AMINOACIDO SOLICITADO\n"
     ]
    }
   ],
   "source": [
    "#Obtener un elemento del dicc\n",
    "print(diccAminos)\n",
    "print(diccAminos.get('VASDAD','NO SE HA ENCONTRADO EL AMINOACIDO SOLICITADO'))"
   ]
  }
 ],
 "metadata": {
  "kernelspec": {
   "display_name": "Python 3",
   "language": "python",
   "name": "python3"
  },
  "language_info": {
   "codemirror_mode": {
    "name": "ipython",
    "version": 3
   },
   "file_extension": ".py",
   "mimetype": "text/x-python",
   "name": "python",
   "nbconvert_exporter": "python",
   "pygments_lexer": "ipython3",
   "version": "3.8.3"
  }
 },
 "nbformat": 4,
 "nbformat_minor": 5
}

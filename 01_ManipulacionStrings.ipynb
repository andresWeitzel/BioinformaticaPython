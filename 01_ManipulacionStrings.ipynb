{
 "cells": [
  {
   "cell_type": "code",
   "execution_count": 17,
   "metadata": {},
   "outputs": [
    {
     "name": "stdout",
     "output_type": "stream",
     "text": [
      "MALTLLATLLLCIAFT\n"
     ]
    }
   ],
   "source": [
    "peptidoSeñal='MALTLLATLLLCIAFT'\n",
    "\n",
    "print(peptidoSeñal)"
   ]
  },
  {
   "cell_type": "code",
   "execution_count": 18,
   "metadata": {},
   "outputs": [
    {
     "name": "stdout",
     "output_type": "stream",
     "text": [
      "La secuencia de Aminoacidos del peptido-señal es: MALTLLATLLLCIAFT\n"
     ]
    }
   ],
   "source": [
    "print('La secuencia de Aminoacidos del peptido-señal es:' , peptidoSeñal)"
   ]
  },
  {
   "cell_type": "code",
   "execution_count": null,
   "metadata": {},
   "outputs": [],
   "source": []
  },
  {
   "cell_type": "code",
   "execution_count": 19,
   "metadata": {},
   "outputs": [
    {
     "name": "stdout",
     "output_type": "stream",
     "text": [
      "maltllatlllciaft\n"
     ]
    }
   ],
   "source": [
    "#Secuencia de aminoacidos en minuscula\n",
    "peptidoSeñal = peptidoSeñal.lower()\n",
    "\n",
    "print(peptidoSeñal)"
   ]
  },
  {
   "cell_type": "code",
   "execution_count": null,
   "metadata": {},
   "outputs": [],
   "source": []
  },
  {
   "cell_type": "code",
   "execution_count": 20,
   "metadata": {},
   "outputs": [
    {
     "name": "stdout",
     "output_type": "stream",
     "text": [
      "MALTLLATLLLCIAFT\n"
     ]
    }
   ],
   "source": [
    "#Secuencia de aminoacidos en mayuscula\n",
    "peptidoSeñal = peptidoSeñal.upper()\n",
    "print(peptidoSeñal)"
   ]
  },
  {
   "cell_type": "code",
   "execution_count": null,
   "metadata": {},
   "outputs": [],
   "source": []
  },
  {
   "cell_type": "code",
   "execution_count": 23,
   "metadata": {},
   "outputs": [
    {
     "name": "stdout",
     "output_type": "stream",
     "text": [
      "La secuencia de ADN es: GCTAATGATGCCCGATGCCCTAAAGCTAGCTAGGGCTAGTT\n",
      "\n",
      "La secuencia de ARN es: GCUAAUGAUGCCCGAUGCCCUAAAGCUAGCUAGGGCUAGUU\n"
     ]
    }
   ],
   "source": [
    "secuencia_ADN='GCTAATGATGCCCGATGCCCTAAAGCTAGCTAGGGCTAGTT'\n",
    "\n",
    "secuencia_ARN=secuencia_ADN.replace('T','U')\n",
    "\n",
    "print('La secuencia de ADN es:',secuencia_ADN)\n",
    "print('\\nLa secuencia de ARN es:',secuencia_ARN)"
   ]
  },
  {
   "cell_type": "code",
   "execution_count": null,
   "metadata": {},
   "outputs": [],
   "source": []
  },
  {
   "cell_type": "code",
   "execution_count": 29,
   "metadata": {},
   "outputs": [
    {
     "name": "stdout",
     "output_type": "stream",
     "text": [
      "\n",
      "Cantidad de Citocinas de la Secuencia de ADN: 10\n",
      "\n",
      "Cantidad de Guaninas de la Secuencia de ADN: 11\n",
      "\n",
      "Cantidad de Adeninas de la Secuencia de ADN: 10\n",
      "\n",
      "Cantidad de Timinas de la Secuencia de ADN: 10\n"
     ]
    }
   ],
   "source": [
    "contadorCitocinas = secuencia_ADN.count(\"C\")\n",
    "contadorGuaninas = secuencia_ADN.count(\"G\")\n",
    "contadorAdeninas = secuencia_ADN.count(\"A\")\n",
    "contadorTiminas = secuencia_ADN.count(\"T\")\n",
    "\n",
    "print(\"\\nCantidad de Citosinas de la Secuencia de ADN:\",contadorCitosinas)\n",
    "print(\"\\nCantidad de Guaninas de la Secuencia de ADN:\",contadorGuaninas)\n",
    "print(\"\\nCantidad de Adeninas de la Secuencia de ADN:\",contadorAdeninas)\n",
    "print(\"\\nCantidad de Timinas de la Secuencia de ADN:\",contadorTiminas)"
   ]
  },
  {
   "cell_type": "code",
   "execution_count": null,
   "metadata": {},
   "outputs": [],
   "source": []
  }
 ],
 "metadata": {
  "kernelspec": {
   "display_name": "Python 3",
   "language": "python",
   "name": "python3"
  },
  "language_info": {
   "codemirror_mode": {
    "name": "ipython",
    "version": 3
   },
   "file_extension": ".py",
   "mimetype": "text/x-python",
   "name": "python",
   "nbconvert_exporter": "python",
   "pygments_lexer": "ipython3",
   "version": "3.8.3"
  }
 },
 "nbformat": 4,
 "nbformat_minor": 4
}

{
 "cells": [
  {
   "cell_type": "code",
   "execution_count": 2,
   "id": "5a3d63ca",
   "metadata": {},
   "outputs": [
    {
     "name": "stdout",
     "output_type": "stream",
     "text": [
      "('ALBUMINAS', 'GLOBULINAS', 'GLUTEINAS', 'PROLAMINAS')\n"
     ]
    }
   ],
   "source": [
    "'''\n",
    "- Se usan en codigos que no cambian, protegidos de escritura\n",
    "- No se pueden eliminar ni añadir elementos una vez creadas\n",
    "- Ocupan menos memoria en el disco\n",
    "- La velocidad de las operaciones es mas rapido\n",
    "...\n",
    "    \n",
    "'''\n",
    "\n",
    "\n",
    "\n",
    "tuplaHoloproteinas = ('ALBUMINAS' , 'GLOBULINAS' , 'GLUTEINAS' , 'PROLAMINAS') \n",
    "\n",
    "print(tuplaHoloproteinas)\n"
   ]
  },
  {
   "cell_type": "code",
   "execution_count": 3,
   "id": "5f1ea63e",
   "metadata": {},
   "outputs": [
    {
     "name": "stdout",
     "output_type": "stream",
     "text": [
      "ALBUMINAS\n",
      "GLOBULINAS\n"
     ]
    }
   ],
   "source": [
    "print(tuplaHoloproteinas[0])\n",
    "print(tuplaHoloproteinas[1])"
   ]
  },
  {
   "cell_type": "code",
   "execution_count": 9,
   "id": "b185ca9a",
   "metadata": {},
   "outputs": [
    {
     "data": {
      "text/plain": [
       "('ALBUMINAS', 'GLOBULINAS', 'GLUTEINAS', 'PROLAMINAS')"
      ]
     },
     "execution_count": 9,
     "metadata": {},
     "output_type": "execute_result"
    }
   ],
   "source": [
    "#SLICING -> SELECCION DE ELEMENTOS POR RANGO\n",
    "\n",
    "tuplaHoloproteinas[0:2]\n",
    "tuplaHoloproteinas[0:4]\n"
   ]
  },
  {
   "cell_type": "code",
   "execution_count": 21,
   "id": "b4f4ac45",
   "metadata": {},
   "outputs": [
    {
     "name": "stdout",
     "output_type": "stream",
     "text": [
      "A\n",
      "L\n",
      "B\n",
      "U\n",
      "M\n",
      "I\n",
      "N\n",
      "A\n"
     ]
    }
   ],
   "source": [
    "print(tuplaHoloproteinas[0][0])\n",
    "print(tuplaHoloproteinas[0][1])\n",
    "print(tuplaHoloproteinas[0][2])\n",
    "print(tuplaHoloproteinas[0][3])\n",
    "print(tuplaHoloproteinas[0][4])\n",
    "print(tuplaHoloproteinas[0][5])\n",
    "print(tuplaHoloproteinas[0][6])\n",
    "print(tuplaHoloproteinas[0][7])"
   ]
  },
  {
   "cell_type": "code",
   "execution_count": 31,
   "id": "aac927cd",
   "metadata": {},
   "outputs": [
    {
     "name": "stdout",
     "output_type": "stream",
     "text": [
      "ALBUMINAS\n",
      "GLOBULINAS\n",
      "GLUTEINAS\n",
      "('ALBUMINAS', 'GLOBULINAS', 'GLUTEINAS', 'PROLAMINAS')\n"
     ]
    }
   ],
   "source": [
    "# print(tuplaHoloproteinas[0][0:20])\n",
    "# print(tuplaHoloproteinas[1][0:20])\n",
    "# print(tuplaHoloproteinas[2][0:20])\n",
    "\n",
    "\n",
    "print(tuplaHoloproteinas[0][:20])\n",
    "print(tuplaHoloproteinas[1][:20])\n",
    "print(tuplaHoloproteinas[2][:20])\n",
    "\n",
    "print(tuplaHoloproteinas[0:5][0:20])"
   ]
  },
  {
   "cell_type": "code",
   "execution_count": 33,
   "id": "4b80c961",
   "metadata": {},
   "outputs": [
    {
     "data": {
      "text/plain": [
       "4"
      ]
     },
     "execution_count": 33,
     "metadata": {},
     "output_type": "execute_result"
    }
   ],
   "source": [
    "len(tuplaHoloproteinas)"
   ]
  },
  {
   "cell_type": "code",
   "execution_count": 35,
   "id": "fa636430",
   "metadata": {},
   "outputs": [
    {
     "data": {
      "text/plain": [
       "'PROLAMINAS'"
      ]
     },
     "execution_count": 35,
     "metadata": {},
     "output_type": "execute_result"
    }
   ],
   "source": [
    "max(tuplaHoloproteinas)"
   ]
  },
  {
   "cell_type": "code",
   "execution_count": 37,
   "id": "7cb094ea",
   "metadata": {},
   "outputs": [
    {
     "data": {
      "text/plain": [
       "'ALBUMINAS'"
      ]
     },
     "execution_count": 37,
     "metadata": {},
     "output_type": "execute_result"
    }
   ],
   "source": [
    "min(tuplaHoloproteinas)"
   ]
  },
  {
   "cell_type": "code",
   "execution_count": 40,
   "id": "d77b38bb",
   "metadata": {},
   "outputs": [
    {
     "name": "stdout",
     "output_type": "stream",
     "text": [
      "TUPLA :  TATAAA\n",
      "LISTA :  ['T', 'A', 'T', 'A', 'A', 'A']\n"
     ]
    }
   ],
   "source": [
    "#Convertimos una tupla o string a una lista\n",
    "tata_box=('TATAAA')\n",
    "print(\"TUPLA : \",tata_box)\n",
    "\n",
    "tata_box_lista = list(tata_box)\n",
    "print(\"LISTA : \",tata_box_lista)"
   ]
  }
 ],
 "metadata": {
  "kernelspec": {
   "display_name": "Python 3",
   "language": "python",
   "name": "python3"
  },
  "language_info": {
   "codemirror_mode": {
    "name": "ipython",
    "version": 3
   },
   "file_extension": ".py",
   "mimetype": "text/x-python",
   "name": "python",
   "nbconvert_exporter": "python",
   "pygments_lexer": "ipython3",
   "version": "3.8.3"
  }
 },
 "nbformat": 4,
 "nbformat_minor": 5
}

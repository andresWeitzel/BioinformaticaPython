{
 "cells": [
  {
   "cell_type": "code",
   "execution_count": 9,
   "id": "6188c977",
   "metadata": {},
   "outputs": [
    {
     "name": "stdout",
     "output_type": "stream",
     "text": [
      "DICCONARIO DE STRINGS -->  {'GLY': 'GLICINA', 'ALA': 'ALANINA', 'VAL': 'VALINA', 'LEU': 'LEUCINA'}\n",
      "DICCONARIO DE STRINGS -->  {('LEU', 'LEUCINA'), ('ALA', 'ALANINA'), ('GLY', 'GLICINA'), ('VAL', 'VALINA')}\n"
     ]
    }
   ],
   "source": [
    "'''\n",
    "SON ESTRUCTURAS DE DATOS ESPECIALES\n",
    "\n",
    "-Los datos se almacenan de forma arbitraria y sin un orden.\n",
    "\n",
    "-Cada elemento consta de un par Clave-Valor. La clave es el indice \n",
    "para recuperar el valor y cada uno de ellos estan separados por ':' o ',' segun \n",
    "sea el caso.\n",
    "\n",
    "-Las claves solo deben ser objetos inmutables(ej:cadenas, tuplas, numeros) para\n",
    "poder acceder a su valor.\n",
    "\n",
    "'''\n",
    "\n",
    "#Diccionario de Strings\n",
    "diccAminos = {'GLY':'GLICINA', 'ALA':'ALANINA', 'VAL':'VALINA','LEU':'LEUCINA'}\n",
    "\n",
    "print(\"DICCIONARIO DE STRINGS --> \",diccAminos)\n",
    "\n",
    "\n",
    "#Diccionario de Tuplas\n",
    "diccAminos = {('GLY','GLICINA'), ('ALA','ALANINA'), ('VAL','VALINA'),('LEU','LEUCINA')}\n",
    "\n",
    "print(\"DICCIONARIO DE TUPLAS --> \",diccAminos)\n",
    "\n"
   ]
  }
 ],
 "metadata": {
  "kernelspec": {
   "display_name": "Python 3",
   "language": "python",
   "name": "python3"
  },
  "language_info": {
   "codemirror_mode": {
    "name": "ipython",
    "version": 3
   },
   "file_extension": ".py",
   "mimetype": "text/x-python",
   "name": "python",
   "nbconvert_exporter": "python",
   "pygments_lexer": "ipython3",
   "version": "3.8.3"
  }
 },
 "nbformat": 4,
 "nbformat_minor": 5
}

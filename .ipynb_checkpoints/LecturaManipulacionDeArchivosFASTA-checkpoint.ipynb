{
 "cells": [
  {
   "cell_type": "code",
   "execution_count": 13,
   "metadata": {},
   "outputs": [
    {
     "name": "stdout",
     "output_type": "stream",
     "text": [
      ">tr|Q4JFS1|Q4JFS1_9HYME Cytochrome c oxidase polypeptide I (Fragment) OS=Cataglyphis cursor OX=72792 GN=COI PE=3 SV=1\n",
      "\n",
      "YSFISMFIGVNMTFFPQHFLGLSGMPRRYSDYPDTFLAWNIISSIGSILSILSLIFLLYL\n",
      "\n",
      "IWEALASKRMIINMFYLNSSLEWLSSYPPINHSYNEIPSI\n"
     ]
    }
   ],
   "source": [
    "'''\n",
    "-El Formato FASTA consta de un encabezado precedido por '>' donde se da información, y tras\n",
    "un salto de linea la secuencia de ADN o aminoácidos. Un ejemplo de secuencia en formato \n",
    "FASTA: http://www.uniprot.org/uniprot/Q4JFS1.fasta\n",
    "\n",
    "-Vamos a crear ese mismo archivo en un bloc de notas y lo vamos a guardar en un directorio dentro\n",
    "del directorio principal\n",
    "\n",
    "-Usamos una ruta Relativa para abrir el archivo, tengo un curso sobre manipulacion y procesamiento \n",
    "de archivos en el canal ante cualquier tema tecnico\n",
    "'''\n",
    "\n",
    "with open(\"./ArchivosFASTA/FragmentoPolipeptido.fas\", 'r') as archivo01:\n",
    "    \n",
    "    for lecturaDeArchivo in archivo01:\n",
    "        \n",
    "        print(lecturaDeArchivo)"
   ]
  },
  {
   "cell_type": "code",
   "execution_count": null,
   "metadata": {},
   "outputs": [],
   "source": []
  }
 ],
 "metadata": {
  "kernelspec": {
   "display_name": "Python 3",
   "language": "python",
   "name": "python3"
  },
  "language_info": {
   "codemirror_mode": {
    "name": "ipython",
    "version": 3
   },
   "file_extension": ".py",
   "mimetype": "text/x-python",
   "name": "python",
   "nbconvert_exporter": "python",
   "pygments_lexer": "ipython3",
   "version": "3.8.3"
  }
 },
 "nbformat": 4,
 "nbformat_minor": 4
}

{
 "cells": [
  {
   "cell_type": "code",
   "execution_count": 16,
   "metadata": {},
   "outputs": [
    {
     "name": "stdout",
     "output_type": "stream",
     "text": [
      "Ingrese la Secuencia de ADN..sdfsd\n"
     ]
    },
    {
     "ename": "AttributeError",
     "evalue": "'str' object has no attribute 'contains'",
     "output_type": "error",
     "traceback": [
      "\u001b[1;31m---------------------------------------------------------------------------\u001b[0m",
      "\u001b[1;31mAttributeError\u001b[0m                            Traceback (most recent call last)",
      "\u001b[1;32m<ipython-input-16-444fde4fbc49>\u001b[0m in \u001b[0;36m<module>\u001b[1;34m\u001b[0m\n\u001b[0;32m      5\u001b[0m \u001b[1;33m\u001b[0m\u001b[0m\n\u001b[0;32m      6\u001b[0m \u001b[1;33m\u001b[0m\u001b[0m\n\u001b[1;32m----> 7\u001b[1;33m \u001b[1;32mif\u001b[0m \u001b[0msecuencia_ADN\u001b[0m\u001b[1;33m.\u001b[0m\u001b[0mcontains\u001b[0m\u001b[1;33m(\u001b[0m\u001b[1;34m\"12345678910\"\u001b[0m\u001b[1;33m)\u001b[0m\u001b[1;33m:\u001b[0m\u001b[1;33m\u001b[0m\u001b[1;33m\u001b[0m\u001b[0m\n\u001b[0m\u001b[0;32m      8\u001b[0m     \u001b[0mprint\u001b[0m\u001b[1;33m(\u001b[0m\u001b[1;34m'Debe Ingresar caracteres Alfabeticos!!..'\u001b[0m\u001b[1;33m)\u001b[0m\u001b[1;33m\u001b[0m\u001b[1;33m\u001b[0m\u001b[0m\n\u001b[0;32m      9\u001b[0m     \u001b[0mprint\u001b[0m\u001b[1;33m(\u001b[0m\u001b[1;34m'Ingrese Nuevamente la Secuencia!'\u001b[0m\u001b[1;33m)\u001b[0m\u001b[1;33m\u001b[0m\u001b[1;33m\u001b[0m\u001b[0m\n",
      "\u001b[1;31mAttributeError\u001b[0m: 'str' object has no attribute 'contains'"
     ]
    }
   ],
   "source": [
    "secuencia_ADN=input('Ingrese la Secuencia de ADN..')\n",
    "\n",
    "sizeSecuencia_ADN=len(secuencia_ADN)\n",
    "\n",
    "\n",
    "#TERMINAR\n",
    "if secuencia_ADN.contains(\"12345678910\"):\n",
    "    print('Debe Ingresar caracteres Alfabeticos!!..')\n",
    "    print('Ingrese Nuevamente la Secuencia!')\n",
    "    \n",
    "elif sizeSecuencia_ADN < 10:\n",
    "    print('\\nEl Primer debe tener al menos 10 Nucleotidos!!..')\n",
    "    print('Ingrese Nuevamente la Secuencia!')\n",
    "    \n",
    "    if sizeSecuencia_ADN == 0:\n",
    "        print('\\nNo se ha Ingresado ningún Nucleotido!!..')\n",
    "        print('Ingrese Nuevamente la Secuencia!')\n",
    "\n",
    "#No hace falta condicionar que sea mayor a 10 porque ya se filtro con el primer if\n",
    "elif sizeSecuencia_ADN < 25:\n",
    "    print('\\nTamaño del Primer Correcto, Secuencia de ADN ingresado!!..')\n",
    "\n",
    "#En este caso la secuencia es mayor a 25    \n",
    "else:\n",
    "    print('\\nDemasiados Nucleotidos Ingresados, no corresponde a un Primer!!..')\n",
    "    print('Ingrese Nuevamente la Secuencia!')\n"
   ]
  },
  {
   "cell_type": "code",
   "execution_count": null,
   "metadata": {},
   "outputs": [],
   "source": []
  }
 ],
 "metadata": {
  "kernelspec": {
   "display_name": "Python 3",
   "language": "python",
   "name": "python3"
  },
  "language_info": {
   "codemirror_mode": {
    "name": "ipython",
    "version": 3
   },
   "file_extension": ".py",
   "mimetype": "text/x-python",
   "name": "python",
   "nbconvert_exporter": "python",
   "pygments_lexer": "ipython3",
   "version": "3.8.3"
  }
 },
 "nbformat": 4,
 "nbformat_minor": 4
}

{
 "cells": [
  {
   "cell_type": "code",
   "execution_count": 1,
   "metadata": {},
   "outputs": [
    {
     "name": "stdout",
     "output_type": "stream",
     "text": [
      "Bicatenario\n",
      "MonocatenarioPositivo\n",
      "MonocatenarioNegativo\n"
     ]
    }
   ],
   "source": [
    "virusARN=['Bicatenario','MonocatenarioPositivo','MonocatenarioNegativo']\n",
    "\n",
    "for virus in virusARN:\n",
    "    print(virus)"
   ]
  },
  {
   "cell_type": "code",
   "execution_count": 7,
   "metadata": {},
   "outputs": [
    {
     "name": "stdout",
     "output_type": "stream",
     "text": [
      "0 Bicatenario\n",
      "1 MonocatenarioPositivo\n",
      "2 MonocatenarioNegativo\n"
     ]
    }
   ],
   "source": [
    "for numero,virus in enumerate(virusARN):\n",
    "    print(numero,virus)"
   ]
  },
  {
   "cell_type": "code",
   "execution_count": null,
   "metadata": {},
   "outputs": [],
   "source": []
  }
 ],
 "metadata": {
  "kernelspec": {
   "display_name": "Python 3",
   "language": "python",
   "name": "python3"
  },
  "language_info": {
   "codemirror_mode": {
    "name": "ipython",
    "version": 3
   },
   "file_extension": ".py",
   "mimetype": "text/x-python",
   "name": "python",
   "nbconvert_exporter": "python",
   "pygments_lexer": "ipython3",
   "version": "3.8.3"
  }
 },
 "nbformat": 4,
 "nbformat_minor": 4
}

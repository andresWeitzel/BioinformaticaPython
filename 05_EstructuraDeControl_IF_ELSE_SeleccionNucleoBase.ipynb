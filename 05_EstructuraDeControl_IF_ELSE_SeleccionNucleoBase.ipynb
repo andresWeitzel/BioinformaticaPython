{
 "cells": [
  {
   "cell_type": "code",
   "execution_count": 4,
   "id": "81dde5a5",
   "metadata": {},
   "outputs": [
    {
     "name": "stdout",
     "output_type": "stream",
     "text": [
      "Ingrese una Base Nitrogenada a\n",
      "LA BASE NITROGENADA DEL TIPO PURINA PARA  A  ES  ADENINA\n"
     ]
    }
   ],
   "source": [
    "pirimidinas = {'T':'TIMINA','U':'URACILO','C':'CITOSINA'}\n",
    "purinas = {'A':'ADENINA','G':'GUANINA'}\n",
    "\n",
    "\n",
    "inputBase = input('Ingrese una Base Nitrogenada ')\n",
    "inputBase = inputBase.upper()\n",
    "\n",
    "\n",
    "\n",
    "if inputBase in pirimidinas : \n",
    "    print('LA BASE NITROGENADA DEL TIPO PIRIMIDINA PARA '\n",
    "          ,inputBase , ' ES ', pirimidinas[inputBase])\n",
    "elif inputBase in purinas :\n",
    "    print('LA BASE NITROGENADA DEL TIPO PURINA PARA '\n",
    "          ,inputBase , ' ES ', purinas[inputBase])\n",
    "else : \n",
    "    print('LA BASE NITROGENADA NO SE ENCUENTRA EN EL DICCIONARIO')\n"
   ]
  },
  {
   "cell_type": "code",
   "execution_count": null,
   "id": "1e2fb213",
   "metadata": {},
   "outputs": [],
   "source": []
  }
 ],
 "metadata": {
  "kernelspec": {
   "display_name": "Python 3",
   "language": "python",
   "name": "python3"
  },
  "language_info": {
   "codemirror_mode": {
    "name": "ipython",
    "version": 3
   },
   "file_extension": ".py",
   "mimetype": "text/x-python",
   "name": "python",
   "nbconvert_exporter": "python",
   "pygments_lexer": "ipython3",
   "version": "3.8.3"
  }
 },
 "nbformat": 4,
 "nbformat_minor": 5
}

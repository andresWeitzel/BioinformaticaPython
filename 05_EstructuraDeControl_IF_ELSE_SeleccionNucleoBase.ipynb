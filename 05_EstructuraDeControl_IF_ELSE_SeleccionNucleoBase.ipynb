{
 "cells": [
  {
   "cell_type": "code",
   "execution_count": 18,
   "metadata": {},
   "outputs": [
    {
     "name": "stdout",
     "output_type": "stream",
     "text": [
      "Ingrese una Letra:2\n",
      "\n",
      "--------------------------------------------------------------------------\n",
      "---LA BASE NITROGENADA SOLICITADA NO SE HA ENCONTRADO EN LA BASE DE DATOS---\n",
      "---------------------------------------------------------------------------\n",
      "\n"
     ]
    }
   ],
   "source": [
    "nucleoBasesPirimidinas={'T':'TIMINA', 'U':'URACILO', 'C':'CITOSINA'}\n",
    "nucleoBasesPurinas={'A':'ADENINA', 'G':'GUANINA'}\n",
    "\n",
    "inputNucleoBase=input('Ingrese una Letra:')\n",
    "\n",
    "\n",
    "#Cuando se solicita algo a la db puede no ser iguales los formatos, convertimos todo a mayuscula\n",
    "inputNucleoBase=inputNucleoBase.upper()\n",
    "\n",
    "\n",
    "if inputNucleoBase in nucleoBasesPirimidinas:\n",
    "    \n",
    "    #Al usar diccionarios recordar que teniendo la llave tambien se tiene el valor\n",
    "    print('La Base Nitrogenada del Tipo Pirimidina para', inputNucleoBase\n",
    "          , 'es:', nucleoBasesPirimidinas[inputNucleoBase])\n",
    "    \n",
    "    #El format nos permite utilizar los indices, si se tiene mucho contenido es de utilidad\n",
    "    #print('La Base Nitrogenada del Tipo Pirimidina para {0} es {1}'\n",
    "     #     .format(inputNucleoBase, nucleoBasesPirimidinas[inputNucleoBase]))\n",
    "\n",
    "        \n",
    "elif inputNucleoBase in nucleoBasesPurinas:\n",
    "    \n",
    "    print('La Base Nitrogenada del Tipo Purina para', inputNucleoBase\n",
    "          , 'es:', nucleoBasesPurinas[inputNucleoBase])\n",
    "\n",
    "    \n",
    "else:\n",
    "    \n",
    "    print('\\n--------------------------------------------------------------------------')\n",
    "    print('---LA BASE NITROGENADA SOLICITADA NO SE HA ENCONTRADO EN LA BASE DE DATOS---')\n",
    "    print('---------------------------------------------------------------------------\\n')"
   ]
  },
  {
   "cell_type": "code",
   "execution_count": null,
   "metadata": {},
   "outputs": [],
   "source": []
  }
 ],
 "metadata": {
  "kernelspec": {
   "display_name": "Python 3",
   "language": "python",
   "name": "python3"
  },
  "language_info": {
   "codemirror_mode": {
    "name": "ipython",
    "version": 3
   },
   "file_extension": ".py",
   "mimetype": "text/x-python",
   "name": "python",
   "nbconvert_exporter": "python",
   "pygments_lexer": "ipython3",
   "version": "3.8.3"
  },
  "widgets": {
   "application/vnd.jupyter.widget-state+json": {
    "state": {},
    "version_major": 2,
    "version_minor": 0
   }
  }
 },
 "nbformat": 4,
 "nbformat_minor": 4
}

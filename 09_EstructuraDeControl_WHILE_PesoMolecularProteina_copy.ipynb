{
 "cells": [
  {
   "cell_type": "code",
   "execution_count": 10,
   "metadata": {},
   "outputs": [
    {
     "name": "stdout",
     "output_type": "stream",
     "text": [
      "\n",
      "Ingrese una secuencia Proteica: a\n",
      "\n",
      "La Secuencia Proteica Ingresada es Incorrecta, Vuelva a Intentarlo!\n"
     ]
    }
   ],
   "source": [
    "secuenciaProteica = input('\\nIngrese una secuencia Proteica: ')\n",
    "\n",
    "pesoMolecularAminoacidos ={ \n",
    "    'A':89,  'V':117, 'L':131, 'I':131, 'P':115,\n",
    "    'F':165, 'W':204, 'M':149, 'G':75, 'S':105,\n",
    "    'C':121, 'T':119, 'Y':181, 'N':132,  'Q':146,\n",
    "    'D':133, 'E':147, 'K':146, 'R':174,  'H':155\n",
    "}\n",
    "\n",
    "pesoTotal=0\n",
    "\n",
    "# Mientras cumpla cierta condicion hacemos tal cosa\n",
    "# Para que se considere una prote debe tener mas de 20 aminos\n",
    "while len(secuenciaProteica) > 20:\n",
    "    \n",
    "    for aminoacido in secuenciaProteica:\n",
    "\n",
    "        pesoTotal= pesoTotal \n",
    "        + pesoMolecularAminoacidos\n",
    "        .get(aminoacido.upper(), 0)\n",
    "\n",
    "        print(pesoTotal)\n",
    "    \n",
    "    print('\\nEl Peso Total Molecular de la Secuencia Proteica es: ', pesoTotal)\n",
    "    \n",
    "    #Bajo este algoritmo es importante trabajar con un break, sino seria un bucle infinito\n",
    "    break\n",
    "    \n",
    "\n",
    "#OJO!! NO ES VALIDO LA CONDICION CON UN WHILE, PORQUE CAERIAMOS EN UN BUCLE INFINITO\n",
    "if len(secuenciaProteica) < 20:\n",
    "     \n",
    "    print('\\nLa Secuencia Proteica Ingresada es Incorrecta, Vuelva a Intentarlo!')\n",
    "    \n",
    "    \n",
    "    "
   ]
  },
  {
   "cell_type": "code",
   "execution_count": null,
   "metadata": {},
   "outputs": [],
   "source": []
  },
  {
   "cell_type": "code",
   "execution_count": null,
   "metadata": {},
   "outputs": [],
   "source": []
  }
 ],
 "metadata": {
  "kernelspec": {
   "display_name": "Python 3",
   "language": "python",
   "name": "python3"
  },
  "language_info": {
   "codemirror_mode": {
    "name": "ipython",
    "version": 3
   },
   "file_extension": ".py",
   "mimetype": "text/x-python",
   "name": "python",
   "nbconvert_exporter": "python",
   "pygments_lexer": "ipython3",
   "version": "3.8.3"
  }
 },
 "nbformat": 4,
 "nbformat_minor": 4
}

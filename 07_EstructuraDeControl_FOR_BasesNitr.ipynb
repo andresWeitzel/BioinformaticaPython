{
 "cells": [
  {
   "cell_type": "code",
   "execution_count": 2,
   "id": "8ee837de",
   "metadata": {},
   "outputs": [
    {
     "name": "stdout",
     "output_type": "stream",
     "text": [
      "['A', 'T', 'U', 'C', 'A', 'T', 'U', 'C', 'A', 'T', 'U', 'C', 'A', 'T', 'U', 'C', 'A', 'T', 'U', 'C', 'A', 'T', 'U', 'C', 'A', 'T', 'U', 'C', 'A', 'T', 'U', 'C', 'A', 'T', 'U', 'C', 'A', 'T', 'U', 'C', 'A', 'T', 'U', 'C', 'A', 'T', 'U', 'C', 'A', 'T', 'U', 'C', 'A', 'T', 'U', 'C', 'A', 'T', 'U', 'C', 'A', 'T', 'U', 'C']\n"
     ]
    }
   ],
   "source": [
    "nucleotidos=['A','T','U','C','A','T','U','C','A','T','U','C','A','T','U','C','A','T','U','C','A','T','U','C','A','T','U','C','A','T','U','C','A','T','U','C','A','T','U','C','A','T','U','C','A','T','U','C','A','T','U','C','A','T','U','C','A','T','U','C','A','T','U','C']\n",
    "print(nucleotidos)\n"
   ]
  },
  {
   "cell_type": "code",
   "execution_count": 5,
   "id": "8c043818",
   "metadata": {},
   "outputs": [
    {
     "name": "stdout",
     "output_type": "stream",
     "text": [
      "A\n",
      "T\n",
      "U\n",
      "C\n",
      "A\n",
      "T\n",
      "U\n",
      "C\n",
      "A\n",
      "T\n",
      "U\n",
      "C\n",
      "A\n",
      "T\n",
      "U\n",
      "C\n",
      "A\n",
      "T\n",
      "U\n",
      "C\n",
      "A\n",
      "T\n",
      "U\n",
      "C\n",
      "A\n",
      "T\n",
      "U\n",
      "C\n",
      "A\n",
      "T\n",
      "U\n",
      "C\n",
      "A\n",
      "T\n",
      "U\n",
      "C\n",
      "A\n",
      "T\n",
      "U\n",
      "C\n",
      "A\n",
      "T\n",
      "U\n",
      "C\n",
      "A\n",
      "T\n",
      "U\n",
      "C\n",
      "A\n",
      "T\n",
      "U\n",
      "C\n",
      "A\n",
      "T\n",
      "U\n",
      "C\n",
      "A\n",
      "T\n",
      "U\n",
      "C\n",
      "A\n",
      "T\n",
      "U\n",
      "C\n"
     ]
    }
   ],
   "source": [
    "for objeto in nucleotidos : \n",
    "    print(objeto)\n",
    "    \n",
    "    "
   ]
  },
  {
   "cell_type": "code",
   "execution_count": 6,
   "id": "1353d5ab",
   "metadata": {},
   "outputs": [
    {
     "name": "stdout",
     "output_type": "stream",
     "text": [
      "0 A\n",
      "1 T\n",
      "2 U\n",
      "3 C\n",
      "4 A\n",
      "5 T\n",
      "6 U\n",
      "7 C\n",
      "8 A\n",
      "9 T\n",
      "10 U\n",
      "11 C\n",
      "12 A\n",
      "13 T\n",
      "14 U\n",
      "15 C\n",
      "16 A\n",
      "17 T\n",
      "18 U\n",
      "19 C\n",
      "20 A\n",
      "21 T\n",
      "22 U\n",
      "23 C\n",
      "24 A\n",
      "25 T\n",
      "26 U\n",
      "27 C\n",
      "28 A\n",
      "29 T\n",
      "30 U\n",
      "31 C\n",
      "32 A\n",
      "33 T\n",
      "34 U\n",
      "35 C\n",
      "36 A\n",
      "37 T\n",
      "38 U\n",
      "39 C\n",
      "40 A\n",
      "41 T\n",
      "42 U\n",
      "43 C\n",
      "44 A\n",
      "45 T\n",
      "46 U\n",
      "47 C\n",
      "48 A\n",
      "49 T\n",
      "50 U\n",
      "51 C\n",
      "52 A\n",
      "53 T\n",
      "54 U\n",
      "55 C\n",
      "56 A\n",
      "57 T\n",
      "58 U\n",
      "59 C\n",
      "60 A\n",
      "61 T\n",
      "62 U\n",
      "63 C\n"
     ]
    }
   ],
   "source": [
    "for indice,objeto in enumerate(nucleotidos) : \n",
    "    print(indice,objeto)\n",
    "    \n",
    "    "
   ]
  }
 ],
 "metadata": {
  "kernelspec": {
   "display_name": "Python 3",
   "language": "python",
   "name": "python3"
  },
  "language_info": {
   "codemirror_mode": {
    "name": "ipython",
    "version": 3
   },
   "file_extension": ".py",
   "mimetype": "text/x-python",
   "name": "python",
   "nbconvert_exporter": "python",
   "pygments_lexer": "ipython3",
   "version": "3.8.3"
  }
 },
 "nbformat": 4,
 "nbformat_minor": 5
}

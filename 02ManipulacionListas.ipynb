{
 "cells": [
  {
   "cell_type": "code",
   "execution_count": 4,
   "metadata": {},
   "outputs": [
    {
     "name": "stdout",
     "output_type": "stream",
     "text": [
      "['ADENINA', 'CITOCINA', 'GUANINA', 'TIMINA', 'URACILO']\n"
     ]
    }
   ],
   "source": [
    "aminoacidos=['ADENINA','CITOCINA','GUANINA','TIMINA','URACILO']\n",
    "print(aminoacidos)"
   ]
  },
  {
   "cell_type": "code",
   "execution_count": 5,
   "metadata": {},
   "outputs": [
    {
     "data": {
      "text/plain": [
       "'ADENINA'"
      ]
     },
     "execution_count": 5,
     "metadata": {},
     "output_type": "execute_result"
    }
   ],
   "source": [
    "aminoacidos[0]"
   ]
  },
  {
   "cell_type": "code",
   "execution_count": 8,
   "metadata": {},
   "outputs": [
    {
     "data": {
      "text/plain": [
       "'URACILO'"
      ]
     },
     "execution_count": 8,
     "metadata": {},
     "output_type": "execute_result"
    }
   ],
   "source": [
    "#Fuera de rango, porque no hay un elemento para ese indice\n",
    "#aminoacidos[5]\n",
    "\n",
    "aminoacidos[4]"
   ]
  },
  {
   "cell_type": "code",
   "execution_count": 9,
   "metadata": {},
   "outputs": [
    {
     "data": {
      "text/plain": [
       "['A',\n",
       " 'T',\n",
       " 'U',\n",
       " 'C',\n",
       " 'G',\n",
       " 'T',\n",
       " 'U',\n",
       " 'A',\n",
       " 'A',\n",
       " 'G',\n",
       " 'C',\n",
       " 'T',\n",
       " 'A',\n",
       " 'T',\n",
       " 'C',\n",
       " 'G',\n",
       " 'T',\n",
       " 'A',\n",
       " 'G',\n",
       " 'G',\n",
       " 'C',\n",
       " 'C',\n",
       " 'T',\n",
       " 'A',\n",
       " 'G',\n",
       " 'C',\n",
       " 'T',\n",
       " 'G',\n",
       " 'G',\n",
       " 'C',\n",
       " 'C',\n",
       " 'C',\n",
       " 'T',\n",
       " 'A',\n",
       " 'G',\n",
       " 'G',\n",
       " 'G',\n",
       " 'C',\n",
       " 'T',\n",
       " 'T',\n",
       " 'A',\n",
       " 'G',\n",
       " 'A',\n",
       " 'T',\n",
       " 'C',\n",
       " 'G',\n",
       " 'A',\n",
       " 'T',\n",
       " 'G',\n",
       " 'C',\n",
       " 'G',\n",
       " 'A',\n",
       " 'T',\n",
       " 'U',\n",
       " 'U',\n",
       " 'U',\n",
       " 'A',\n",
       " 'U',\n",
       " 'A',\n",
       " 'U',\n",
       " 'A',\n",
       " 'U']"
      ]
     },
     "execution_count": 9,
     "metadata": {},
     "output_type": "execute_result"
    }
   ],
   "source": [
    "#Usando una variable con strings y creamos una lista\n",
    "aminoacidos=\"ATUCGTUAAGCTATCGTAGGCCTAGCTGGCCCTAGGGCTTAGATCGATGCGATUUUAUAUAU\"\n",
    "\n",
    "list(aminoacidos)"
   ]
  },
  {
   "cell_type": "code",
   "execution_count": 18,
   "metadata": {},
   "outputs": [
    {
     "name": "stdout",
     "output_type": "stream",
     "text": [
      "['ADENINA', 'CITOCINA', 'GUANINA', 'TIMINA', 'URACILO', 'TIMINA']\n"
     ]
    }
   ],
   "source": [
    "aminoacidos=['ADENINA','CITOCINA','GUANINA','TIMINA','URACILO']\n",
    "\n",
    "#Agregamos elementos a la lista\n",
    "aminoacidos.append(\"TIMINA\")\n",
    "\n",
    "#Para Listas solo toma un argumento este metodo\n",
    "#aminoacidos.append(\"TIMINA\",\"GUANINA\")\n",
    "\n",
    "print(aminoacidos)"
   ]
  },
  {
   "cell_type": "code",
   "execution_count": 19,
   "metadata": {},
   "outputs": [
    {
     "name": "stdout",
     "output_type": "stream",
     "text": [
      "['ADENINA', 'CITOCINA', 'GUANINA', 'TIMINA', 'URACILO', 'TIMINA', 'CITOCINA', 'ADENINA', 'ADENINA']\n"
     ]
    }
   ],
   "source": [
    "aminoacidos.extend([\"CITOCINA\",\"ADENINA\",\"ADENINA\"])\n",
    "print(aminoacidos)"
   ]
  },
  {
   "cell_type": "code",
   "execution_count": 20,
   "metadata": {},
   "outputs": [
    {
     "name": "stdout",
     "output_type": "stream",
     "text": [
      "['ADENINA', 'TIMINA', 'CITOCINA', 'GUANINA', 'TIMINA', 'URACILO', 'TIMINA', 'CITOCINA', 'ADENINA', 'ADENINA']\n"
     ]
    }
   ],
   "source": [
    "#Agregamos elementos en especificas posiciones a la lista\n",
    "aminoacidos.insert(1,\"TIMINA\")\n",
    "\n",
    "print(aminoacidos)"
   ]
  },
  {
   "cell_type": "code",
   "execution_count": null,
   "metadata": {},
   "outputs": [],
   "source": []
  },
  {
   "cell_type": "code",
   "execution_count": 21,
   "metadata": {},
   "outputs": [
    {
     "data": {
      "text/plain": [
       "'ADENINA'"
      ]
     },
     "execution_count": 21,
     "metadata": {},
     "output_type": "execute_result"
    }
   ],
   "source": [
    "#Eliminamos Elementos sabiendo las posiciones, y para esto buscamos con find si es necesario\n",
    "#Eliminamos ultimo elemento\n",
    "aminoacidos.pop(9)"
   ]
  },
  {
   "cell_type": "code",
   "execution_count": 22,
   "metadata": {},
   "outputs": [
    {
     "data": {
      "text/plain": [
       "['ADENINA',\n",
       " 'TIMINA',\n",
       " 'CITOCINA',\n",
       " 'GUANINA',\n",
       " 'TIMINA',\n",
       " 'URACILO',\n",
       " 'TIMINA',\n",
       " 'CITOCINA',\n",
       " 'ADENINA']"
      ]
     },
     "execution_count": 22,
     "metadata": {},
     "output_type": "execute_result"
    }
   ],
   "source": [
    "aminoacidos"
   ]
  },
  {
   "cell_type": "code",
   "execution_count": null,
   "metadata": {},
   "outputs": [],
   "source": []
  },
  {
   "cell_type": "code",
   "execution_count": 38,
   "metadata": {},
   "outputs": [
    {
     "name": "stdout",
     "output_type": "stream",
     "text": [
      "Lista de Aminoacidos Original: ['ADENINA', 'TIMINA', 'CITOCINA', 'GUANINA', 'TIMINA', 'URACILO', 'TIMINA', 'CITOCINA']\n",
      "\n",
      "Lista de Aminoacidos Copia: ['ADENINA', 'TIMINA', 'CITOCINA', 'GUANINA', 'TIMINA', 'URACILO', 'TIMINA', 'CITOCINA']\n"
     ]
    }
   ],
   "source": [
    "#Copia de Listas\n",
    "aminoacidosCopia=aminoacidos.copy()\n",
    "\n",
    "print('Lista de Aminoacidos Original:',aminoacidos)\n",
    "print('\\nLista de Aminoacidos Copia:',aminoacidosCopia)\n"
   ]
  },
  {
   "cell_type": "code",
   "execution_count": null,
   "metadata": {},
   "outputs": [],
   "source": []
  },
  {
   "cell_type": "code",
   "execution_count": null,
   "metadata": {},
   "outputs": [],
   "source": []
  },
  {
   "cell_type": "code",
   "execution_count": null,
   "metadata": {},
   "outputs": [],
   "source": []
  }
 ],
 "metadata": {
  "kernelspec": {
   "display_name": "Python 3",
   "language": "python",
   "name": "python3"
  },
  "language_info": {
   "codemirror_mode": {
    "name": "ipython",
    "version": 3
   },
   "file_extension": ".py",
   "mimetype": "text/x-python",
   "name": "python",
   "nbconvert_exporter": "python",
   "pygments_lexer": "ipython3",
   "version": "3.8.3"
  }
 },
 "nbformat": 4,
 "nbformat_minor": 4
}

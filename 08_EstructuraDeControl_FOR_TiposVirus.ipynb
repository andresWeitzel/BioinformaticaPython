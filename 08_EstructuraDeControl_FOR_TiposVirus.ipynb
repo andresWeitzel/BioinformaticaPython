{
 "cells": [
  {
   "cell_type": "code",
   "execution_count": 3,
   "id": "b4897674",
   "metadata": {},
   "outputs": [
    {
     "name": "stdout",
     "output_type": "stream",
     "text": [
      "['Herpes simplex (Herpesviridae)', 'Varicela (Herpesviridae)', 'Papiloma (Papillomaviridae)', 'Ectima contagioso (Poxviridae)', 'Virus vacuna (Poxviridae)', 'Viruela (Poxviridae)', 'Bacteriófago (Caudoviricetes)', 'Baculovirus (Baculoviridae)', 'SARS-CoV-2', 'poliomielitis', 'Hepatitis A', 'Hepatitis B']\n"
     ]
    }
   ],
   "source": [
    "virusBicatenarios=[\n",
    "    'Herpes simplex (Herpesviridae)'\n",
    "    ,'Varicela (Herpesviridae)'\n",
    "    ,'Papiloma (Papillomaviridae)'\n",
    ",'Ectima contagioso (Poxviridae)'\n",
    ",'Virus vacuna (Poxviridae)'\n",
    ",'Viruela (Poxviridae)'\n",
    ",'Bacteriófago (Caudoviricetes)'\n",
    ",'Baculovirus (Baculoviridae)'\n",
    ",'SARS-CoV-2'\n",
    ",'poliomielitis'\n",
    ",'Hepatitis A'\n",
    ",'Hepatitis B'\n",
    "]\n",
    "print(virusBicatenarios)"
   ]
  },
  {
   "cell_type": "code",
   "execution_count": 9,
   "id": "e3e08cb2",
   "metadata": {},
   "outputs": [
    {
     "name": "stdout",
     "output_type": "stream",
     "text": [
      "0 Herpes simplex (Herpesviridae)  --> Virus Bicatenarios\n",
      "1 Varicela (Herpesviridae)  --> Virus Bicatenarios\n",
      "2 Papiloma (Papillomaviridae)  --> Virus Bicatenarios\n",
      "3 Ectima contagioso (Poxviridae)  --> Virus Bicatenarios\n",
      "4 Virus vacuna (Poxviridae)  --> Virus Bicatenarios\n",
      "5 Viruela (Poxviridae)  --> Virus Bicatenarios\n",
      "6 Bacteriófago (Caudoviricetes)  --> Virus Bicatenarios\n",
      "7 Baculovirus (Baculoviridae)  --> Virus Bicatenarios\n",
      "8 SARS-CoV-2  --> Virus Monocatenarios\n",
      "9 poliomielitis  --> Virus Monocatenarios\n",
      "10 Hepatitis A  --> Virus Monocatenarios\n",
      "11 Hepatitis B  --> Virus Monocatenarios\n"
     ]
    }
   ],
   "source": [
    "for indice,virus in enumerate(virusBicatenarios):\n",
    "    if(('SARS-CoV-2' in virus) \n",
    "       or ('poliomielitis' in virus) \n",
    "       or ('Hepatitis A' in virus) \n",
    "       or ('Hepatitis B' in virus)):\n",
    "        print(indice,virus,' --> Virus Monocatenarios')\n",
    "    else:\n",
    "        print(indice,virus,' --> Virus Bicatenarios')"
   ]
  },
  {
   "cell_type": "code",
   "execution_count": null,
   "id": "37cd4857",
   "metadata": {},
   "outputs": [],
   "source": []
  }
 ],
 "metadata": {
  "kernelspec": {
   "display_name": "Python 3",
   "language": "python",
   "name": "python3"
  },
  "language_info": {
   "codemirror_mode": {
    "name": "ipython",
    "version": 3
   },
   "file_extension": ".py",
   "mimetype": "text/x-python",
   "name": "python",
   "nbconvert_exporter": "python",
   "pygments_lexer": "ipython3",
   "version": "3.8.3"
  }
 },
 "nbformat": 4,
 "nbformat_minor": 5
}

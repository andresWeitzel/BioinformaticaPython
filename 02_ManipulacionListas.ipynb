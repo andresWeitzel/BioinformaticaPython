{
 "cells": [
  {
   "cell_type": "code",
   "execution_count": 1,
   "id": "b062b352",
   "metadata": {},
   "outputs": [
    {
     "name": "stdout",
     "output_type": "stream",
     "text": [
      "['ADENINA', 'CITOCINA', 'GUANINA', 'TIMINA', 'URACILO']\n"
     ]
    }
   ],
   "source": [
    "listaNucleotidos = ['ADENINA','CITOCINA','GUANINA','TIMINA','URACILO']\n",
    "\n",
    "print(listaNucleotidos)\n"
   ]
  },
  {
   "cell_type": "code",
   "execution_count": 5,
   "id": "40f0f30f",
   "metadata": {},
   "outputs": [
    {
     "name": "stdout",
     "output_type": "stream",
     "text": [
      "ADENINA\n",
      "CITOCINA\n",
      "GUANINA\n",
      "TIMINA\n",
      "URACILO\n"
     ]
    }
   ],
   "source": [
    "print(listaNucleotidos[0])\n",
    "print(listaNucleotidos[1])\n",
    "print(listaNucleotidos[2])\n",
    "print(listaNucleotidos[3])\n",
    "print(listaNucleotidos[4])"
   ]
  },
  {
   "cell_type": "code",
   "execution_count": 6,
   "id": "116f51c5",
   "metadata": {},
   "outputs": [
    {
     "data": {
      "text/plain": [
       "['A', 'T', 'U', 'C', 'G', 'T', 'A', 'T', 'A', 'A', 'G', 'C', 'T', 'A']"
      ]
     },
     "execution_count": 6,
     "metadata": {},
     "output_type": "execute_result"
    }
   ],
   "source": [
    "nucleotidos = \"ATUCGTATAAGCTA\"\n",
    "\n",
    "list(nucleotidos)"
   ]
  },
  {
   "cell_type": "code",
   "execution_count": null,
   "id": "384a8772",
   "metadata": {},
   "outputs": [],
   "source": []
  },
  {
   "cell_type": "code",
   "execution_count": 9,
   "id": "59b05148",
   "metadata": {},
   "outputs": [
    {
     "name": "stdout",
     "output_type": "stream",
     "text": [
      "['ADENINA', 'CITOCINA', 'GUANINA', 'TIMINA', 'URACILO', 'ADENINA', 'ADENINA']\n"
     ]
    }
   ],
   "source": [
    "#AGREGAMOS UN ELEMENTO A LA LISTA\n",
    "listaNucleotidos = ['ADENINA','CITOCINA','GUANINA','TIMINA','URACILO']\n",
    "\n",
    "listaNucleotidos.append('ADENINA')\n",
    "\n",
    "listaNucleotidos.append('ADENINA')\n",
    "\n",
    "\n",
    "print(listaNucleotidos)\n"
   ]
  },
  {
   "cell_type": "code",
   "execution_count": null,
   "id": "25e10f63",
   "metadata": {},
   "outputs": [],
   "source": []
  },
  {
   "cell_type": "code",
   "execution_count": 10,
   "id": "00115af0",
   "metadata": {},
   "outputs": [
    {
     "name": "stdout",
     "output_type": "stream",
     "text": [
      "['ADENINA', 'CITOCINA', 'GUANINA', 'TIMINA', 'URACILO', 'CITOCINA', 'URACILO', 'TIMINA']\n"
     ]
    }
   ],
   "source": [
    "#AGREGAMOS VARIOS ELEMENTOS A LA LISTA\n",
    "\n",
    "listaNucleotidos = ['ADENINA','CITOCINA','GUANINA','TIMINA','URACILO']\n",
    "\n",
    "listaNucleotidos.extend(['CITOCINA','URACILO','TIMINA'])\n",
    "\n",
    "\n",
    "print(listaNucleotidos)\n"
   ]
  },
  {
   "cell_type": "code",
   "execution_count": 13,
   "id": "02b2d5d6",
   "metadata": {},
   "outputs": [
    {
     "name": "stdout",
     "output_type": "stream",
     "text": [
      "['CITOCINA', 'ADENINA', 'CITOCINA', 'GUANINA', 'ADENINA', 'TIMINA', 'URACILO']\n"
     ]
    }
   ],
   "source": [
    "#AGREGAMOS ELEMENTOS POR INDICE A LA LISTA\n",
    "\n",
    "\n",
    "listaNucleotidos = ['ADENINA','CITOCINA','GUANINA','TIMINA','URACILO']\n",
    "\n",
    "listaNucleotidos.insert(0,'CITOCINA')\n",
    "\n",
    "listaNucleotidos.insert(4,'ADENINA')\n",
    "\n",
    "print(listaNucleotidos)\n",
    "\n",
    "\n",
    "\n"
   ]
  },
  {
   "cell_type": "code",
   "execution_count": 14,
   "id": "3209ff0e",
   "metadata": {},
   "outputs": [
    {
     "name": "stdout",
     "output_type": "stream",
     "text": [
      "['ADENINA', 'CITOCINA', 'GUANINA', 'TIMINA']\n"
     ]
    }
   ],
   "source": [
    "#ELIMINAMOS ELEMENTOS DE  LA LISTA\n",
    "\n",
    "\n",
    "listaNucleotidos = ['ADENINA','CITOCINA','GUANINA','TIMINA','URACILO']\n",
    "\n",
    "listaNucleotidos.pop(4)\n",
    "\n",
    "print(listaNucleotidos)\n",
    "\n"
   ]
  },
  {
   "cell_type": "code",
   "execution_count": 15,
   "id": "9226cca0",
   "metadata": {},
   "outputs": [
    {
     "name": "stdout",
     "output_type": "stream",
     "text": [
      "['ADENINA', 'CITOCINA', 'GUANINA', 'TIMINA', 'URACILO']\n",
      "['ADENINA', 'CITOCINA', 'GUANINA', 'TIMINA', 'URACILO']\n"
     ]
    }
   ],
   "source": [
    "#COPIAMOS LISTAS\n",
    "\n",
    "\n",
    "listaNucleotidos = ['ADENINA','CITOCINA','GUANINA','TIMINA','URACILO']\n",
    "\n",
    "listaNucleotidosCopy = listaNucleotidos.copy()\n",
    "\n",
    "\n",
    "\n",
    "print(listaNucleotidos)\n",
    "\n",
    "print(listaNucleotidosCopy)\n",
    "\n"
   ]
  },
  {
   "cell_type": "code",
   "execution_count": null,
   "id": "2a06a953",
   "metadata": {},
   "outputs": [],
   "source": []
  }
 ],
 "metadata": {
  "kernelspec": {
   "display_name": "Python 3",
   "language": "python",
   "name": "python3"
  },
  "language_info": {
   "codemirror_mode": {
    "name": "ipython",
    "version": 3
   },
   "file_extension": ".py",
   "mimetype": "text/x-python",
   "name": "python",
   "nbconvert_exporter": "python",
   "pygments_lexer": "ipython3",
   "version": "3.8.3"
  }
 },
 "nbformat": 4,
 "nbformat_minor": 5
}

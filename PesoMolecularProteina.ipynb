{
 "cells": [
  {
   "cell_type": "code",
   "execution_count": 13,
   "metadata": {},
   "outputs": [
    {
     "name": "stdout",
     "output_type": "stream",
     "text": [
      "\n",
      "Ingrese una secuencia Proteica: as\n",
      "89\n",
      "194\n",
      "\n",
      "El Peso Total Molecular de la Secuencia Proteica es:  194\n"
     ]
    }
   ],
   "source": [
    "secuenciaProteica = input('\\nIngrese una secuencia Proteica: ')\n",
    "\n",
    "pesoMolecularAminoacidos ={ \n",
    "    'A':89,  'V':117, 'L':131, 'I':131, 'P':115,\n",
    "    'F':165, 'W':204, 'M':149, 'G':75, 'S':105,\n",
    "    'C':121, 'T':119, 'Y':181, 'N':132,  'Q':146,\n",
    "    'D':133, 'E':147, 'K':146, 'R':174,  'H':155\n",
    "}\n",
    "\n",
    "pesoTotal=0\n",
    "\n",
    "\n",
    "for aminoacido in secuenciaProteica:\n",
    "    \n",
    "    '''\n",
    "    Relacionamos  cada amino de la secuencia ingresada en relacion al peso de los aminos\n",
    "    de nuestro diccionario creado.\n",
    "    Con el .get solamente obtenemos el valor de ese aminoacido para almacenarlo en la variable \n",
    "    pesoTotal.\n",
    "    '''\n",
    "    pesoTotal= pesoTotal + pesoMolecularAminoacidos.get(aminoacido.upper(), 0)\n",
    "    \n",
    "    print(pesoTotal)\n",
    "\n",
    "    \n",
    "print('\\nEl Peso Total Molecular de la Secuencia Proteica es: ', pesoTotal)\n",
    "    \n",
    "    \n",
    "    "
   ]
  },
  {
   "cell_type": "code",
   "execution_count": null,
   "metadata": {},
   "outputs": [],
   "source": []
  }
 ],
 "metadata": {
  "kernelspec": {
   "display_name": "Python 3",
   "language": "python",
   "name": "python3"
  },
  "language_info": {
   "codemirror_mode": {
    "name": "ipython",
    "version": 3
   },
   "file_extension": ".py",
   "mimetype": "text/x-python",
   "name": "python",
   "nbconvert_exporter": "python",
   "pygments_lexer": "ipython3",
   "version": "3.8.3"
  }
 },
 "nbformat": 4,
 "nbformat_minor": 4
}
